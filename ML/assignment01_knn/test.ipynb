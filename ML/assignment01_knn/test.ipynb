{
 "cells": [
  {
   "cell_type": "code",
   "execution_count": null,
   "id": "297560d6",
   "metadata": {},
   "outputs": [],
   "source": [
    "import numpy as np \n",
    "\n",
    "np.random.seed(42)"
   ]
  },
  {
   "cell_type": "code",
   "execution_count": 23,
   "id": "7d9029da",
   "metadata": {},
   "outputs": [],
   "source": [
    "a = np.random.randint(0, 10, size=(2, 3))\n",
    "b = np.random.randint(0, 10, size=(4, 3))"
   ]
  },
  {
   "cell_type": "code",
   "execution_count": 95,
   "id": "460f276f",
   "metadata": {},
   "outputs": [
    {
     "data": {
      "text/plain": [
       "array([[9, 3, 1],\n",
       "       [5, 5, 5]])"
      ]
     },
     "execution_count": 95,
     "metadata": {},
     "output_type": "execute_result"
    }
   ],
   "source": [
    "a"
   ]
  },
  {
   "cell_type": "code",
   "execution_count": 96,
   "id": "e22e1486",
   "metadata": {},
   "outputs": [
    {
     "data": {
      "text/plain": [
       "array([[0, 4, 7],\n",
       "       [0, 3, 2],\n",
       "       [5, 4, 0],\n",
       "       [5, 7, 3]])"
      ]
     },
     "execution_count": 96,
     "metadata": {},
     "output_type": "execute_result"
    }
   ],
   "source": [
    "b"
   ]
  },
  {
   "cell_type": "code",
   "execution_count": 70,
   "id": "ccd705d5",
   "metadata": {},
   "outputs": [
    {
     "data": {
      "text/plain": [
       "array([[10.86278049,  9.05538514,  4.24264069,  6.        ],\n",
       "       [ 5.47722558,  6.164414  ,  5.09901951,  2.82842712]])"
      ]
     },
     "execution_count": 70,
     "metadata": {},
     "output_type": "execute_result"
    }
   ],
   "source": [
    "dists = np.zeros((a.shape[0], b.shape[0]))\n",
    "for i in range(a.shape[0]):\n",
    "    for j in range(b.shape[0]):\n",
    "        dists[i, j] = np.sqrt( np.sum( (a[i]- b[j]) ** 2 ) )\n",
    "dists"
   ]
  },
  {
   "cell_type": "code",
   "execution_count": 110,
   "id": "0d606f03",
   "metadata": {},
   "outputs": [
    {
     "data": {
      "text/plain": [
       "array([[10.86278049,  9.05538514,  4.24264069,  6.        ],\n",
       "       [ 5.47722558,  6.164414  ,  5.09901951,  2.82842712]])"
      ]
     },
     "execution_count": 110,
     "metadata": {},
     "output_type": "execute_result"
    }
   ],
   "source": [
    "dists = np.zeros((a.shape[0], b.shape[0]))\n",
    "for i in range(a.shape[0]):\n",
    "    dists[i, :] = np.sqrt(np.sum((a[i] - b)**2, axis=1))\n",
    "dists"
   ]
  },
  {
   "cell_type": "code",
   "execution_count": 119,
   "id": "891a1751",
   "metadata": {},
   "outputs": [
    {
     "name": "stdout",
     "output_type": "stream",
     "text": [
      "2\n"
     ]
    }
   ],
   "source": [
    "a = [1,2,3,2,1,2,2,2,110]\n",
    "values, counts = np.unique(a, return_counts=True)\n",
    "ind = np.argmax(counts)\n",
    "print(values[ind])"
   ]
  },
  {
   "cell_type": "code",
   "execution_count": 77,
   "id": "00077c85",
   "metadata": {},
   "outputs": [
    {
     "data": {
      "text/plain": [
       "array([[ 72.71175971,  58.06031347, 100.4788535 , 101.24228366,\n",
       "         82.54695633,  41.07310556,  98.47334665,  71.85401868,\n",
       "         56.86826883],\n",
       "       [ 52.06726419, 149.70971912,  91.1592014 , 107.55463728,\n",
       "         65.37583651,  88.0170438 ,  77.96794213,  88.79752249,\n",
       "         70.41306697],\n",
       "       [ 62.15303693,  93.33273809,  89.59910714,  87.14355972,\n",
       "         70.32780389,  84.65813605,  58.38664231,  66.02272336,\n",
       "         73.22567856],\n",
       "       [ 85.24083528,  73.14369419, 104.95237015,  95.45155839,\n",
       "        107.56858277, 100.88607436,  92.66067127,  56.86826883,\n",
       "         89.80534505],\n",
       "       [ 83.74365648,  96.27564593, 135.91173606, 134.46932736,\n",
       "         90.21086409,  73.02739212, 107.96758773,  83.34866526,\n",
       "         65.4369926 ],\n",
       "       [ 67.06713055,  54.91812087,  76.70071708,  78.53024895,\n",
       "         73.92563831,  47.138095  ,  81.17881497,  71.81921748,\n",
       "         63.61603571],\n",
       "       [136.17268449,  41.48493703, 128.96511156, 121.15279609,\n",
       "        133.75350463,  97.72921774, 140.68759718, 126.78722333,\n",
       "        124.43472184],\n",
       "       [ 72.31182476, 101.38540329, 102.51829105, 102.32301794,\n",
       "         87.96590248,  54.63515352, 110.52149112,  51.68171824,\n",
       "         54.01851534],\n",
       "       [ 61.95159401,  86.5909926 ,  83.71977066,  84.91760713,\n",
       "         93.20407716,  64.88451279,  99.69954864,  32.28002478,\n",
       "         58.12916652],\n",
       "       [111.28791489, 101.5430943 ,  74.8465096 ,  53.72150407,\n",
       "         84.46300966, 103.79306335,  78.2751557 , 106.33437826,\n",
       "        117.66902736]])"
      ]
     },
     "execution_count": 77,
     "metadata": {},
     "output_type": "execute_result"
    }
   ],
   "source": [
    "import numpy as np \n",
    "\n",
    "# X = np.random.randint(0, 99, size=(10, 5))\n",
    "# X_train = np.random.randint(0, 99, size=(9, 5))\n",
    "\n",
    "num_test = X.shape[0]\n",
    "num_train = X_train.shape[0]\n",
    "dists = np.zeros((num_test, num_train))\n",
    "for i in range(num_test):\n",
    "    \n",
    "    # First \n",
    "    # for j in range(num_train):\n",
    "    #    dists[i, j] = np.sqrt( np.sum( (X[i]- X_train[j]) ** 2 ) )\n",
    "    \n",
    "    # Second \n",
    "    dists[i, :] = np.sqrt(np.sum((X[i] - X_train)**2, axis=1))\n",
    "    \n",
    "    # 3\n",
    "    # dist = np.dot(X - X_train, (X - X_train).T)\n",
    "    \n",
    "dists    "
   ]
  }
 ],
 "metadata": {
  "kernelspec": {
   "display_name": "Python 3 (ipykernel)",
   "language": "python",
   "name": "python3"
  },
  "language_info": {
   "codemirror_mode": {
    "name": "ipython",
    "version": 3
   },
   "file_extension": ".py",
   "mimetype": "text/x-python",
   "name": "python",
   "nbconvert_exporter": "python",
   "pygments_lexer": "ipython3",
   "version": "3.9.7"
  }
 },
 "nbformat": 4,
 "nbformat_minor": 5
}
