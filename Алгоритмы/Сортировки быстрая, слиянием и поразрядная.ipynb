{
 "cells": [
  {
   "cell_type": "markdown",
   "id": "a2aed1cd",
   "metadata": {},
   "source": [
    "# Быстрая сортировка \n",
    "\n",
    "* **paivot** - опорный элемент \n",
    "* **partition**\n",
    "* Схема Хоара для partition (с левым и правым указателем)\n",
    "* Три указателя: равный $x$(equally), больший $x$(great) и новый (now): $E$, $G$, $N$\n",
    "\n",
    "\n",
    "**$k$-ая порядкая статистика** - элемент, который будет стоять на $k$ месте после сортировки. \n",
    "\n",
    "Хотим найти $k$-ую порядковую статистику меньше, чем за $n\\log{n}$ испотльзуя partition."
   ]
  },
  {
   "cell_type": "code",
   "execution_count": 79,
   "id": "b196c2c3",
   "metadata": {},
   "outputs": [
    {
     "name": "stdout",
     "output_type": "stream",
     "text": [
      "4\n",
      "1\n"
     ]
    },
    {
     "data": {
      "text/plain": [
       "[1, 4, 2, 3, 9]"
      ]
     },
     "execution_count": 79,
     "metadata": {},
     "output_type": "execute_result"
    }
   ],
   "source": [
    "# A. Partition\n",
    "\n",
    "def partition(x, l, r):\n",
    "    equally, great, now = l, l, l\n",
    "    while now <= r:\n",
    "        if a[now] < x:\n",
    "            a[now], a[great], a[equally] = a[great], a[equally], a[now]\n",
    "            equally += 1\n",
    "            great += 1\n",
    "        elif a[now] == x:\n",
    "            a[great], a[now] = a[now], a[great]\n",
    "            great += 1\n",
    "        elif a[now] > x:\n",
    "            pass\n",
    "        now += 1\n",
    "    return equally \n",
    "    \n",
    "# n = int(input())\n",
    "# a = list(map(int, input().split()))\n",
    "# x = int(input())\n",
    "\n",
    "n = 5\n",
    "a = [1, 9, 4, 2, 3]\n",
    "x = 9\n",
    "l, r = 0, n - 1\n",
    "p = partition(x, l, r)\n",
    "print(p, n - p, sep='\\n')\n",
    "a"
   ]
  },
  {
   "cell_type": "code",
   "execution_count": 4,
   "id": "49dc30f3",
   "metadata": {
    "scrolled": true
   },
   "outputs": [
    {
     "name": "stdout",
     "output_type": "stream",
     "text": [
      "10\n",
      "3 5 1 7 9 8 1 3 1 3 \n",
      "1 1 1 3 3 3 5 7 8 9\n"
     ]
    }
   ],
   "source": [
    "import random\n",
    "\n",
    "def partition(x, l, r):\n",
    "    equally, great, now = l, l, l\n",
    "    while now <= r:\n",
    "        y = a[now]\n",
    "        if y < x:\n",
    "            a[now] = a[great]\n",
    "            a[great] = a[equally]\n",
    "            a[equally] = y\n",
    "            equally += 1\n",
    "            great += 1\n",
    "        elif y == x:\n",
    "            a[great], a[now] = y, a[great]\n",
    "            great += 1\n",
    "        now += 1\n",
    "    return equally, great\n",
    "\n",
    "def qsort(l, r):\n",
    "    if l >= r:\n",
    "        return\n",
    "    x = a[random.randint(l, r)]\n",
    "    equally, great = partition(x, l, r)\n",
    "    qsort(l, equally)\n",
    "    qsort(great, r)\n",
    "\n",
    "n = int(input())\n",
    "if n == 0:\n",
    "    print()\n",
    "else:\n",
    "    a = list(map(int, input().split()))\n",
    "    l = 0\n",
    "    r = n - 1\n",
    "    qsort(l, r)\n",
    "    print(*a)"
   ]
  },
  {
   "cell_type": "markdown",
   "id": "998fa309",
   "metadata": {},
   "source": [
    "# Сортировка слиянием (merge)"
   ]
  },
  {
   "cell_type": "code",
   "execution_count": 3,
   "id": "5b6b3326",
   "metadata": {
    "scrolled": true
   },
   "outputs": [
    {
     "name": "stdout",
     "output_type": "stream",
     "text": [
      "5\n",
      "3 4 5 3 1\n",
      "1 3 3 4 5\n"
     ]
    }
   ],
   "source": [
    "def merge_sort(arr):\n",
    "    if len(arr) in (0, 1):\n",
    "        return arr\n",
    "    mid = len(arr) // 2\n",
    "    a = merge_sort(arr[:mid])\n",
    "    b = merge_sort(arr[mid:])\n",
    "    c = []\n",
    "    ind_a, ind_b = 0, 0\n",
    "    while ind_a < len(a) and ind_b < len(b):\n",
    "        if a[ind_a] < b[ind_b]:\n",
    "            c.append(a[ind_a])\n",
    "            ind_a += 1\n",
    "        elif b[ind_b] <= a[ind_a]:\n",
    "            c.append(b[ind_b])\n",
    "            ind_b += 1\n",
    "    while ind_a < len(a):\n",
    "        c.append(a[ind_a])\n",
    "        ind_a += 1\n",
    "    while ind_b < len(b):\n",
    "        c.append(b[ind_b])\n",
    "        ind_b += 1\n",
    "    return c\n",
    "\n",
    "n = int(input())\n",
    "a = list(map(int, input().split()))\n",
    "print(*merge_sort(a))"
   ]
  },
  {
   "cell_type": "markdown",
   "id": "76f059fa",
   "metadata": {},
   "source": [
    "# E. Поразрядная сортировка"
   ]
  },
  {
   "cell_type": "code",
   "execution_count": 27,
   "id": "04e04e56",
   "metadata": {},
   "outputs": [
    {
     "name": "stdout",
     "output_type": "stream",
     "text": [
      "Initial array:\n",
      "12, 32, 45, 67, 98, 29, 61, 35, 09\n",
      "**********\n",
      "Phase 1\n",
      "Bucket 0: empty\n",
      "Bucket 1: 61\n",
      "Bucket 2: 12, 32\n",
      "Bucket 3: empty\n",
      "Bucket 4: empty\n",
      "Bucket 5: 45, 35\n",
      "Bucket 6: empty\n",
      "Bucket 7: 67\n",
      "Bucket 8: 98\n",
      "Bucket 9: 29, 09\n",
      "**********\n",
      "Phase 2\n",
      "Bucket 0: 09\n",
      "Bucket 1: 12\n",
      "Bucket 2: 29\n",
      "Bucket 3: 32, 35\n",
      "Bucket 4: 45\n",
      "Bucket 5: empty\n",
      "Bucket 6: 61, 67\n",
      "Bucket 7: empty\n",
      "Bucket 8: empty\n",
      "Bucket 9: 98\n",
      "**********\n",
      "Sorted array:\n",
      "09, 12, 29, 32, 35, 45, 61, 67, 98\n"
     ]
    }
   ],
   "source": [
    "n = int(input())\n",
    "s = [input() for _ in range(n)]\n",
    "\n",
    "# n = 9\n",
    "# s = ['12','32','45','67','98','29','61','35','09']\n",
    "\n",
    "print(\"Initial array:\")\n",
    "print(\", \".join(s))\n",
    "\n",
    "len_s = len(s[0])\n",
    "for Phase, i in enumerate(range(len_s - 1, -1, -1)):\n",
    "    Bucket = [[] for _ in range(10)]\n",
    "    print(\"**********\")\n",
    "    print(f\"Phase {Phase + 1}\")\n",
    "    for j in range(n):\n",
    "        Bucket[int(s[j][i])].append(s[j])\n",
    "    for j in range(10):\n",
    "        print(f\"Bucket {j}:\", \"empty\" if len(Bucket[j]) == 0 else ', '.join(Bucket[j]))\n",
    "    s = []\n",
    "    for j in range(10):\n",
    "        s.extend(Bucket[j])\n",
    "        \n",
    "print(\"**********\")\n",
    "Sorted_array = []\n",
    "for j in range(10):\n",
    "    Sorted_array.extend(Bucket[j])\n",
    "print(\"Sorted array:\")\n",
    "print(\", \".join(Sorted_array))"
   ]
  }
 ],
 "metadata": {
  "kernelspec": {
   "display_name": "Python 3 (ipykernel)",
   "language": "python",
   "name": "python3"
  },
  "language_info": {
   "codemirror_mode": {
    "name": "ipython",
    "version": 3
   },
   "file_extension": ".py",
   "mimetype": "text/x-python",
   "name": "python",
   "nbconvert_exporter": "python",
   "pygments_lexer": "ipython3",
   "version": "3.9.7"
  }
 },
 "nbformat": 4,
 "nbformat_minor": 5
}
