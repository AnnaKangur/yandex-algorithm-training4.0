{
 "cells": [
  {
   "cell_type": "markdown",
   "id": "0e91fa83",
   "metadata": {},
   "source": [
    "# A. Не минимум на отрезке"
   ]
  },
  {
   "cell_type": "code",
   "execution_count": null,
   "id": "59f90805",
   "metadata": {},
   "outputs": [],
   "source": [
    "n, m = map(int, input().split())\n",
    "a = list(map(int, input().split()))\n",
    "for i in range(m):\n",
    "    l, r = map(int, input().split())\n",
    "    min_a = min(a[l:r+1])\n",
    "    max_a = max(a[l:r+1])\n",
    "    if min_a == max_a:\n",
    "        print(\"NOT FOUND\")\n",
    "    else:\n",
    "        print(max_a)"
   ]
  },
  {
   "cell_type": "markdown",
   "id": "da1f1cc9",
   "metadata": {},
   "source": [
    "# B. Сложить две дроби"
   ]
  },
  {
   "cell_type": "code",
   "execution_count": null,
   "id": "294f6012",
   "metadata": {},
   "outputs": [],
   "source": [
    "def NOK(a, b):\n",
    "    while a > 0 and b > 0:\n",
    "        if a > b:\n",
    "            a = a % b\n",
    "        else:\n",
    "            b = b % a\n",
    "    return max(a, b)\n",
    "\n",
    "a, b, c, d = map(int, input().split())\n",
    "m = a * d + b * c\n",
    "n = b * d\n",
    "nok = NOK(m, n)\n",
    "m, n = m // nok, n // nok\n",
    "print(m, n)"
   ]
  },
  {
   "cell_type": "markdown",
   "id": "80839352",
   "metadata": {},
   "source": [
    "# C. Путешествие по Москве"
   ]
  },
  {
   "cell_type": "code",
   "execution_count": 27,
   "id": "97e89ab5",
   "metadata": {},
   "outputs": [
    {
     "name": "stdout",
     "output_type": "stream",
     "text": [
      "1 1 1 1\n",
      "0.0\n"
     ]
    }
   ],
   "source": [
    "import math\n",
    "\n",
    "\n",
    "def norm(arr: list) -> float:\n",
    "    return math.sqrt(sum(x**2 for x in arr))\n",
    "\n",
    "\n",
    "xa, ya, xb, yb = map(float, input().split())\n",
    "\n",
    "Ra = norm([xa, ya])\n",
    "Rb = norm([xb, yb])\n",
    "Ra, Rb\n",
    "min_R = min(Ra, Rb)\n",
    "\n",
    "alpha = math.atan2(ya, xa)\n",
    "beta = math.atan2(yb, xb)\n",
    "L = min_R * abs(beta - alpha)\n",
    "ans = min(Ra + Rb, L + abs(Ra - Rb))\n",
    "\n",
    "print(ans)"
   ]
  },
  {
   "cell_type": "markdown",
   "id": "7a9edace",
   "metadata": {},
   "source": [
    "# D. Анаграмма?"
   ]
  },
  {
   "cell_type": "code",
   "execution_count": null,
   "id": "f8fecaa0",
   "metadata": {},
   "outputs": [],
   "source": [
    "def get_dct(word):\n",
    "    dct = {}\n",
    "    for x in word:\n",
    "        if x not in dct:\n",
    "            dct[x] = 0\n",
    "        dct[x] += 1\n",
    "    return dct\n",
    "\n",
    "def Anagram(a, b):\n",
    "    dct_a = get_dct(a)\n",
    "    dct_b = get_dct(b)\n",
    "    if len(dct_a) != len(dct_b):\n",
    "        return \"NO\"\n",
    "    for x in dct_a:\n",
    "        if x not in dct_b:\n",
    "            return \"NO\"\n",
    "        if dct_a[x] != dct_b[x]:\n",
    "             return \"NO\"\n",
    "    return \"YES\"\n",
    "\n",
    "a = input()\n",
    "b = input()\n",
    "print(Anagram(a, b))"
   ]
  },
  {
   "cell_type": "markdown",
   "id": "15ab510c",
   "metadata": {},
   "source": [
    "# E. Средний уровень"
   ]
  },
  {
   "cell_type": "code",
   "execution_count": null,
   "id": "fdd25aae",
   "metadata": {},
   "outputs": [],
   "source": [
    "# E. Средний уровень\n",
    "n = int(input())\n",
    "a = list(map(int, input().split()))\n",
    "discontent = []\n",
    "\n",
    "b = [0] * (n + 1)\n",
    "for i in range(1, n):\n",
    "    b[i] = b[i - 1] + a[i - 1]\n",
    "# print(b)\n",
    "\n",
    "c = [0] * (n + 1)\n",
    "for i in range(1,n):\n",
    "    c[i] = (a[i] - a[i-1]) * i + c[i-1] \n",
    "# print(c)\n",
    "\n",
    "S = sum(a)\n",
    "for i in range(n):\n",
    "    discontent.append(S - a[i] * (n - i) - b[i] + c[i])\n",
    "print(*discontent)"
   ]
  },
  {
   "cell_type": "markdown",
   "id": "0bf3c3fc",
   "metadata": {},
   "source": [
    "# F. Лифт"
   ]
  },
  {
   "cell_type": "code",
   "execution_count": null,
   "id": "8f1b3d12",
   "metadata": {},
   "outputs": [],
   "source": [
    "k = int(input())\n",
    "n = int(input())\n",
    "a = [0]\n",
    "for i in range(n):\n",
    "    a.append(int(input()))\n",
    "\n",
    "# k = 2\n",
    "# n = 3\n",
    "# a = [0, 3, 0, 1]\n",
    "\n",
    "time = 0\n",
    "\n",
    "for i in range(n, 0, -1):\n",
    "    time += (a[i] // k) * i * 2\n",
    "    a[i] = a[i] % k\n",
    "    if a[i] > 0:\n",
    "        time += i * 2\n",
    "        free_place = k - a[i]\n",
    "        j = i - 1\n",
    "        while j > 0 and free_place > 0:\n",
    "            if a[j] > free_place:\n",
    "                a[j] -= free_place\n",
    "                free_place = 0\n",
    "            elif a[j] <= free_place:\n",
    "                free_place -= a[j]\n",
    "                a[j] = 0\n",
    "            j -= 1\n",
    "    a[i] = 0\n",
    "print(time)"
   ]
  },
  {
   "cell_type": "markdown",
   "id": "468ae448",
   "metadata": {},
   "source": [
    "# G. Кролик учит геометрию"
   ]
  },
  {
   "cell_type": "code",
   "execution_count": null,
   "id": "91cb22f1",
   "metadata": {},
   "outputs": [],
   "source": [
    "def find_largest_square(matrix):\n",
    "    n = len(matrix)\n",
    "    m = len(matrix[0])\n",
    "    dp = [[0 for j in range(m)] for i in range(n)]\n",
    "    max_size = 0\n",
    "    max_i = 0\n",
    "    max_j = 0\n",
    "    for i in range(n):\n",
    "        for j in range(m):\n",
    "            if matrix[i][j] == 1:\n",
    "                if i == 0 or j == 0:\n",
    "                    dp[i][j] = 1\n",
    "                else:\n",
    "                    dp[i][j] = min(dp[i-1][j], dp[i][j-1], dp[i-1][j-1]) + 1\n",
    "                if dp[i][j] > max_size:\n",
    "                    max_size = dp[i][j]\n",
    "                    max_i = i\n",
    "                    max_j = j\n",
    "    return (max_i - max_size + 1, max_j - max_size + 1, max_i, max_j)\n",
    "\n",
    "with open('input.txt', 'r') as f:\n",
    "    lines = f.readlines()\n",
    "    \n",
    "n, m = map(int, lines[0].split())\n",
    "\n",
    "matrix = []\n",
    "for i in range(1, len(lines)):\n",
    "    matrix.append(list(map(int, lines[i].split())))\n",
    "    \n",
    "a, b, c, d = find_largest_square(matrix)\n",
    "print(c - a + 1)"
   ]
  },
  {
   "cell_type": "code",
   "execution_count": null,
   "id": "6e0c5d9f",
   "metadata": {},
   "outputs": [],
   "source": [
    "# Бинпоиск + префиксные суммы\n"
   ]
  },
  {
   "cell_type": "markdown",
   "id": "c178a502",
   "metadata": {},
   "source": [
    "# H. Результаты контеста"
   ]
  },
  {
   "cell_type": "code",
   "execution_count": 32,
   "id": "16489805",
   "metadata": {},
   "outputs": [
    {
     "name": "stdout",
     "output_type": "stream",
     "text": [
      "1\n",
      "2\n",
      "3\n",
      "No\n"
     ]
    }
   ],
   "source": [
    "import math\n",
    "\n",
    "# a, b, n = 60, 30, 4\n",
    "# a, b, n = 30, 30, 1\n",
    "# a, b, n = 30, 150, 4\n",
    "\n",
    "a = int(input())\n",
    "b = int(input())\n",
    "n = int(input())\n",
    "\n",
    "if a > (b + n - 1) // n:\n",
    "    print(\"Yes\")\n",
    "else:\n",
    "    print(\"No\")"
   ]
  },
  {
   "cell_type": "code",
   "execution_count": 28,
   "id": "03a83182",
   "metadata": {},
   "outputs": [
    {
     "data": {
      "text/plain": [
       "4"
      ]
     },
     "execution_count": 28,
     "metadata": {},
     "output_type": "execute_result"
    }
   ],
   "source": [
    "math.ceil(3.33)"
   ]
  },
  {
   "cell_type": "markdown",
   "id": "df53bbbe",
   "metadata": {},
   "source": [
    "# I. Правильная скобочная последовательность"
   ]
  },
  {
   "cell_type": "code",
   "execution_count": null,
   "id": "8c211e03",
   "metadata": {},
   "outputs": [],
   "source": [
    "s = list(input())\n",
    "stack = []\n",
    "res = 'yes'\n",
    "for i in range(len(s)):\n",
    "    if s[i] == '(' or s[i] == '{' or s[i] == '[':\n",
    "        stack.append(s[i])\n",
    "    if s[i] == ')' or s[i] == '}' or s[i] == ']':\n",
    "        if len(stack) == 0:\n",
    "            res = 'no'\n",
    "            break\n",
    "        elif s[i] == ')' and stack[len(stack)-1] == '(':\n",
    "            stack.pop()\n",
    "        elif s[i] == '}' and stack[len(stack)-1] == '{' :\n",
    "            stack.pop()\n",
    "        elif s[i] == ']' and stack[len(stack)-1] == '[':\n",
    "            stack.pop()\n",
    "        else:    \n",
    "            res = 'no'\n",
    "            break\n",
    "if len(stack) != 0:\n",
    "    res = 'no'     \n",
    "print(res)"
   ]
  },
  {
   "cell_type": "markdown",
   "id": "15c3275d",
   "metadata": {},
   "source": [
    "# J. Групповой проект"
   ]
  },
  {
   "cell_type": "code",
   "execution_count": null,
   "id": "8f1cdd69",
   "metadata": {
    "scrolled": false
   },
   "outputs": [],
   "source": [
    "n = int(input())\n",
    "for _ in range(n):\n",
    "    n, a, b = map(int, input().split())\n",
    "    div = n // a\n",
    "    mod = n % a\n",
    "    # print(div, mod)\n",
    "    if div > 0 and (mod / div) < 1:\n",
    "        print(\"YES\")\n",
    "    else:\n",
    "        print(\"NO\")\n",
    "        \n",
    "# 4\n",
    "# 10 2 3\n",
    "# 11 7 8\n",
    "# 28 4 6\n",
    "# 3 1 2\n",
    "\n",
    "# YES\n",
    "# NO\n",
    "# YES\n",
    "# YES"
   ]
  },
  {
   "cell_type": "code",
   "execution_count": null,
   "id": "89c24323",
   "metadata": {},
   "outputs": [],
   "source": [
    "with open(\"02.txt\", encoding=\"UTF-8\") as file_in:\n",
    "    lines = file_in.readlines()\n",
    "    \n",
    "# res = []\n",
    "\n",
    "n = int(lines[0].rstrip('\\n'))\n",
    "for i in range(1, n + 1):\n",
    "    n, a, b = map(int, lines[i].rstrip('\\n').split())\n",
    "#     n, a, b = map(int, input().split())\n",
    "    #print(n, a, b)\n",
    "    diff = b - a\n",
    "    div = n // a\n",
    "    mod = n % a\n",
    "    #print(div, mod)\n",
    "    if diff * div >= mod:\n",
    "        print(\"YES\")\n",
    "#         res.append(\"YES\")\n",
    "    else:\n",
    "        print(\"NO\")\n",
    "#         res.append(\"NO\")"
   ]
  },
  {
   "cell_type": "code",
   "execution_count": null,
   "id": "77de7ccf",
   "metadata": {},
   "outputs": [],
   "source": [
    "with open(\"02a.txt\", encoding=\"UTF-8\") as file_in:\n",
    "    lines = file_in.readlines()\n",
    "\n",
    "i = 0\n",
    "for ans in lines:\n",
    "    if ans.rstrip('\\n') != res[i]:\n",
    "        print(\"err\")\n",
    "    i += 1"
   ]
  }
 ],
 "metadata": {
  "kernelspec": {
   "display_name": "Python 3 (ipykernel)",
   "language": "python",
   "name": "python3"
  },
  "language_info": {
   "codemirror_mode": {
    "name": "ipython",
    "version": 3
   },
   "file_extension": ".py",
   "mimetype": "text/x-python",
   "name": "python",
   "nbconvert_exporter": "python",
   "pygments_lexer": "ipython3",
   "version": "3.9.7"
  }
 },
 "nbformat": 4,
 "nbformat_minor": 5
}
